{
 "cells": [
  {
   "cell_type": "markdown",
   "id": "8c91170d",
   "metadata": {},
   "source": [
    "Testing VM"
   ]
  },
  {
   "cell_type": "code",
   "execution_count": 4,
   "id": "52b1249a",
   "metadata": {},
   "outputs": [
    {
     "name": "stdout",
     "output_type": "stream",
     "text": [
      "Linux-3.10.0-1160.el7.x86_64-x86_64-with-glibc2.17\n",
      "Python version: 3.10.13 (main, Sep 11 2023, 13:21:10) [GCC 11.2.0]\n",
      "Current working directory: /media/sf_NGS-Analysis\n",
      "List files here: ['.git', '.gitignore', '.snakemake', 'data', 'logs', 'Notebook.ipynb', 'README.md', 'references', 'scripts', 'Snakefile', 'tmp']\n",
      "total 13\n",
      "drwxrwx---. 1 root vboxsf 4096 Aug  7 22:11 data\n",
      "drwxrwx---. 1 root vboxsf    0 Aug  7 20:54 logs\n",
      "-rwxrwx---. 1 root vboxsf    0 Aug  8 09:00 Notebook.ipynb\n",
      "-rwxrwx---. 1 root vboxsf   14 Aug  7 13:42 README.md\n",
      "drwxrwx---. 1 root vboxsf 4096 Aug  7 22:11 references\n",
      "drwxrwx---. 1 root vboxsf    0 Aug  7 20:54 scripts\n",
      "-rwxrwx---. 1 root vboxsf 2785 Aug  7 21:43 Snakefile\n",
      "drwxrwx---. 1 root vboxsf    0 Aug  7 20:54 tmp\n"
     ]
    }
   ],
   "source": [
    "import platform\n",
    "print(platform.platform())\n",
    "\n",
    "import sys\n",
    "import os\n",
    "print(\"Python version:\", sys.version)\n",
    "print(\"Current working directory:\", os.getcwd())\n",
    "print(\"List files here:\", os.listdir('.'))\n",
    "\n",
    "!ls -l"
   ]
  },
  {
   "cell_type": "code",
   "execution_count": null,
   "id": "913bfcde",
   "metadata": {},
   "outputs": [],
   "source": []
  }
 ],
 "metadata": {
  "kernelspec": {
   "display_name": "Python (GATK)",
   "language": "python",
   "name": "gatk"
  },
  "language_info": {
   "codemirror_mode": {
    "name": "ipython",
    "version": 3
   },
   "file_extension": ".py",
   "mimetype": "text/x-python",
   "name": "python",
   "nbconvert_exporter": "python",
   "pygments_lexer": "ipython3",
   "version": "3.10.13"
  }
 },
 "nbformat": 4,
 "nbformat_minor": 5
}
