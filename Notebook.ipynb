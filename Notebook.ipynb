{
 "cells": [
  {
   "cell_type": "markdown",
   "id": "95e7b562",
   "metadata": {},
   "source": [
    "Import Libraries"
   ]
  },
  {
   "cell_type": "code",
   "execution_count": 12,
   "id": "913bfcde",
   "metadata": {},
   "outputs": [],
   "source": [
    "# General\n",
    "import os                       # for file and path management\n",
    "import sys                      # system-related utilities\n",
    "import platform                 # to check system info\n",
    "\n",
    "# Data Science, plotting\n",
    "import numpy as np              # numerical computing\n",
    "import pandas as pd             # data manipulation and tables\n",
    "import matplotlib.pyplot as plt # plotting and visualization\n",
    "import seaborn as sns           # advanced statistical plotting\n",
    "import datetime                 # date/time utilities\n",
    "\n",
    "# Bioinformatics\n",
    "from Bio import SeqIO           # sequence input/output (from Biopython)\n",
    "from Bio.Seq import Seq         # sequence object and manipulations\n",
    "from Bio.SeqRecord import SeqRecord\n",
    "\n",
    "# Statistics, modeling\n",
    "import scipy                    # scientific computing\n",
    "import statsmodels.api as sm    # statistics and models\n",
    "import subprocess               # run shell commands if needed inside notebook\n"
   ]
  },
  {
   "cell_type": "markdown",
   "id": "8c91170d",
   "metadata": {},
   "source": [
    "Testing Linux VM"
   ]
  },
  {
   "cell_type": "code",
   "execution_count": 13,
   "id": "52b1249a",
   "metadata": {},
   "outputs": [
    {
     "name": "stdout",
     "output_type": "stream",
     "text": [
      "Linux-3.10.0-1160.el7.x86_64-x86_64-with-glibc2.17\n",
      "Python version: 3.10.13 (main, Sep 11 2023, 13:21:10) [GCC 11.2.0]\n",
      "Current working directory: /media/sf_NGS-Analysis\n",
      "List files here: ['.git', '.gitignore', '.ipynb_checkpoints', '.snakemake', 'data', 'logs', 'Notebook.ipynb', 'output', 'README.md', 'references', 'scripts', 'Snakefile', 'tmp']\n",
      "total 56\n",
      "drwxrwx---. 1 root vboxsf  4096 Aug  7 22:11 data\n",
      "drwxrwx---. 1 root vboxsf     0 Aug  7 20:54 logs\n",
      "-rwxrwx---. 1 root vboxsf 38231 Aug 10 10:44 Notebook.ipynb\n",
      "drwxrwx---. 1 root vboxsf     0 Aug 10 11:11 output\n",
      "-rwxrwx---. 1 root vboxsf  1988 Aug  8 12:22 README.md\n",
      "drwxrwx---. 1 root vboxsf  4096 Aug 10 10:17 references\n",
      "drwxrwx---. 1 root vboxsf     0 Aug  7 20:54 scripts\n",
      "-rwxrwx---. 1 root vboxsf  2785 Aug  7 21:43 Snakefile\n",
      "drwxrwx---. 1 root vboxsf     0 Aug  7 20:54 tmp\n"
     ]
    }
   ],
   "source": [
    "print(platform.platform())\n",
    "\n",
    "print(\"Python version:\", sys.version)\n",
    "print(\"Current working directory:\", os.getcwd())\n",
    "print(\"List files here:\", os.listdir('.'))\n",
    "\n",
    "!ls -l"
   ]
  },
  {
   "cell_type": "markdown",
   "id": "53475bfd",
   "metadata": {},
   "source": [
    "Make Output Directory and Check Tools"
   ]
  },
  {
   "cell_type": "code",
   "execution_count": 14,
   "id": "87339439",
   "metadata": {},
   "outputs": [
    {
     "name": "stdout",
     "output_type": "stream",
     "text": [
      "bwa -> [main] unrecognized command '--version'\n",
      "samtools -> samtools 1.5\n",
      "bedtools -> bedtools v2.27.1\n",
      "bcftools -> bcftools 1.6\n",
      "gatk -> Using GATK jar /opt/gatk/gatk-package-4.6.1.0-local.jar\n",
      "fastqc -> FastQC v0.12.1\n"
     ]
    }
   ],
   "source": [
    "%%bash\n",
    "\n",
    "set -u  # keep undefined var check, but don't exit on error\n",
    "\n",
    "# Create output directory (replace sample01 with your sample name)\n",
    "mkdir -p /output/F12345678910\n",
    "\n",
    "# Check versions of tools\n",
    "for t in bwa samtools bedtools bcftools gatk fastqc; do\n",
    "  if command -v \"$t\" >/dev/null 2>&1; then\n",
    "    echo \"$t -> $($t --version 2>&1 | head -n1)\"\n",
    "  else\n",
    "    echo \"WARNING: $t not found in PATH\"\n",
    "  fi\n",
    "done"
   ]
  },
  {
   "cell_type": "markdown",
   "id": "8d136fd6",
   "metadata": {},
   "source": [
    "Define Variables and File Paths"
   ]
  },
  {
   "cell_type": "code",
   "execution_count": null,
   "id": "399ac6d1",
   "metadata": {},
   "outputs": [],
   "source": [
    "# Large file locations\n",
    "RAW_READS_DIR = os.getenv(\"RAW_READS_DIR\", \"/media/data_storage/reference/\")\n",
    "REF_DIR = os.getenv(\"REF_DIR\", \"/media/data_storage/reads/\")\n",
    "\n",
    "# Sample variables and file locations\n",
    "SAMPLE=\"F12345678910\"\n",
    "PANEL=\"CompN\"\n",
    "R1 = f\"{RAW_READS_DIR}/{SAMPLE}_R1.fastq.gz\"\n",
    "R2 = f\"{RAW_READS_DIR}/{SAMPLE}_R2.fastq.gz\"\n",
    "REF = f\"{REF_DIR}/Homo_sapiens.GRCh38.dna.primary_assembly.fa\"\n",
    "BED=\"/panels/{PANEL}.bed\"\n",
    "OUTDIR=\"/output/output_${SAMPLE}\"\n",
    "THREADS=8\n",
    "\n",
    "# Export variables to environment\n",
    "os.environ[\"SAMPLE\"] = \"F12345678910\"\n",
    "os.environ[\"RAW_READS_DIR\"] = \"/media/data_storage/reference\"\n",
    "os.environ[\"REF_DIR\"] = \"/media/data_storage/reads\"\n",
    "os.environ[\"PANEL\"] = \"CompN\"\n",
    "os.environ[\"THREADS\"] = \"8\""
   ]
  },
  {
   "cell_type": "code",
   "execution_count": null,
   "id": "2b60ebf8",
   "metadata": {},
   "outputs": [
    {
     "name": "stdout",
     "output_type": "stream",
     "text": [
      "SAMPLE: \n",
      "R1: \n",
      "R2: \n",
      "REF: \n",
      "BED: \n",
      "OUTDIR: \n",
      "THREADS: \n"
     ]
    }
   ],
   "source": [
    "%%bash\n",
    "\n",
    "R1=\"${RAW_READS_DIR}/${SAMPLE}_R1.fastq.gz\"\n",
    "R2=\"${RAW_READS_DIR}/${SAMPLE}_R2.fastq.gz\"\n",
    "REF=\"${REF_DIR}/Homo_sapiens.GRCh38.dna.primary_assembly.fa\"\n",
    "BED=\"/media/data_storage/panels/${PANEL}.bed\"\n",
    "OUTDIR=\"/output/output_${SAMPLE}\"\n",
    "\n",
    "echo \"SAMPLE: ${SAMPLE}\"\n",
    "echo \"R1: ${R1}\"\n",
    "echo \"R2: ${R2}\"\n",
    "echo \"REF: ${REF}\"\n",
    "echo \"BED: ${BED}\"\n",
    "echo \"OUTDIR: ${OUTDIR}\"\n",
    "echo \"THREADS: ${THREADS}\""
   ]
  },
  {
   "cell_type": "markdown",
   "id": "79ca3a39",
   "metadata": {},
   "source": [
    "Check Input Files"
   ]
  },
  {
   "cell_type": "code",
   "execution_count": 21,
   "id": "4f2707a4",
   "metadata": {},
   "outputs": [
    {
     "name": "stdout",
     "output_type": "stream",
     "text": [
      "Check FASTQ existence and first reads:\n",
      "Check BED header (first lines):\n"
     ]
    },
    {
     "name": "stderr",
     "output_type": "stream",
     "text": [
      "bash: line 9: BED: unbound variable\n"
     ]
    },
    {
     "ename": "CalledProcessError",
     "evalue": "Command 'b'\\nset -u\\necho \"Check FASTQ existence and first reads:\"\\n#ls -lh \"$R1\" \"$R2\" || true\\n#zcat -n \"$R1\" | sed -n \\'1,4p\\' || true\\n#zcat -n \"$R2\" | sed -n \\'1,4p\\' || true\\n\\necho \"Check BED header (first lines):\"\\nhead -n 5 \"$BED\" || true\\n\\necho \"Check REF: show first header line and index status\"\\nsamtools faidx \"$REF\" >/dev/null 2>&1 || echo \"fai missing (will create later)\"\\ngrep -m1 \\'^>\\' \"$REF\" || true\\n'' returned non-zero exit status 1.",
     "output_type": "error",
     "traceback": [
      "\u001b[0;31m---------------------------------------------------------------------------\u001b[0m",
      "\u001b[0;31mCalledProcessError\u001b[0m                        Traceback (most recent call last)",
      "Cell \u001b[0;32mIn[21], line 1\u001b[0m\n\u001b[0;32m----> 1\u001b[0m \u001b[43mget_ipython\u001b[49m\u001b[43m(\u001b[49m\u001b[43m)\u001b[49m\u001b[38;5;241;43m.\u001b[39;49m\u001b[43mrun_cell_magic\u001b[49m\u001b[43m(\u001b[49m\u001b[38;5;124;43m'\u001b[39;49m\u001b[38;5;124;43mbash\u001b[39;49m\u001b[38;5;124;43m'\u001b[39;49m\u001b[43m,\u001b[49m\u001b[43m \u001b[49m\u001b[38;5;124;43m'\u001b[39;49m\u001b[38;5;124;43m'\u001b[39;49m\u001b[43m,\u001b[49m\u001b[43m \u001b[49m\u001b[38;5;124;43m'\u001b[39;49m\u001b[38;5;130;43;01m\\n\u001b[39;49;00m\u001b[38;5;124;43mset -u\u001b[39;49m\u001b[38;5;130;43;01m\\n\u001b[39;49;00m\u001b[38;5;124;43mecho \u001b[39;49m\u001b[38;5;124;43m\"\u001b[39;49m\u001b[38;5;124;43mCheck FASTQ existence and first reads:\u001b[39;49m\u001b[38;5;124;43m\"\u001b[39;49m\u001b[38;5;130;43;01m\\n\u001b[39;49;00m\u001b[38;5;124;43m#ls -lh \u001b[39;49m\u001b[38;5;124;43m\"\u001b[39;49m\u001b[38;5;124;43m$R1\u001b[39;49m\u001b[38;5;124;43m\"\u001b[39;49m\u001b[38;5;124;43m \u001b[39;49m\u001b[38;5;124;43m\"\u001b[39;49m\u001b[38;5;124;43m$R2\u001b[39;49m\u001b[38;5;124;43m\"\u001b[39;49m\u001b[38;5;124;43m || true\u001b[39;49m\u001b[38;5;130;43;01m\\n\u001b[39;49;00m\u001b[38;5;124;43m#zcat -n \u001b[39;49m\u001b[38;5;124;43m\"\u001b[39;49m\u001b[38;5;124;43m$R1\u001b[39;49m\u001b[38;5;124;43m\"\u001b[39;49m\u001b[38;5;124;43m | sed -n \u001b[39;49m\u001b[38;5;130;43;01m\\'\u001b[39;49;00m\u001b[38;5;124;43m1,4p\u001b[39;49m\u001b[38;5;130;43;01m\\'\u001b[39;49;00m\u001b[38;5;124;43m || true\u001b[39;49m\u001b[38;5;130;43;01m\\n\u001b[39;49;00m\u001b[38;5;124;43m#zcat -n \u001b[39;49m\u001b[38;5;124;43m\"\u001b[39;49m\u001b[38;5;124;43m$R2\u001b[39;49m\u001b[38;5;124;43m\"\u001b[39;49m\u001b[38;5;124;43m | sed -n \u001b[39;49m\u001b[38;5;130;43;01m\\'\u001b[39;49;00m\u001b[38;5;124;43m1,4p\u001b[39;49m\u001b[38;5;130;43;01m\\'\u001b[39;49;00m\u001b[38;5;124;43m || true\u001b[39;49m\u001b[38;5;130;43;01m\\n\u001b[39;49;00m\u001b[38;5;130;43;01m\\n\u001b[39;49;00m\u001b[38;5;124;43mecho \u001b[39;49m\u001b[38;5;124;43m\"\u001b[39;49m\u001b[38;5;124;43mCheck BED header (first lines):\u001b[39;49m\u001b[38;5;124;43m\"\u001b[39;49m\u001b[38;5;130;43;01m\\n\u001b[39;49;00m\u001b[38;5;124;43mhead -n 5 \u001b[39;49m\u001b[38;5;124;43m\"\u001b[39;49m\u001b[38;5;124;43m$BED\u001b[39;49m\u001b[38;5;124;43m\"\u001b[39;49m\u001b[38;5;124;43m || true\u001b[39;49m\u001b[38;5;130;43;01m\\n\u001b[39;49;00m\u001b[38;5;130;43;01m\\n\u001b[39;49;00m\u001b[38;5;124;43mecho \u001b[39;49m\u001b[38;5;124;43m\"\u001b[39;49m\u001b[38;5;124;43mCheck REF: show first header line and index status\u001b[39;49m\u001b[38;5;124;43m\"\u001b[39;49m\u001b[38;5;130;43;01m\\n\u001b[39;49;00m\u001b[38;5;124;43msamtools faidx \u001b[39;49m\u001b[38;5;124;43m\"\u001b[39;49m\u001b[38;5;124;43m$REF\u001b[39;49m\u001b[38;5;124;43m\"\u001b[39;49m\u001b[38;5;124;43m >/dev/null 2>&1 || echo \u001b[39;49m\u001b[38;5;124;43m\"\u001b[39;49m\u001b[38;5;124;43mfai missing (will create later)\u001b[39;49m\u001b[38;5;124;43m\"\u001b[39;49m\u001b[38;5;130;43;01m\\n\u001b[39;49;00m\u001b[38;5;124;43mgrep -m1 \u001b[39;49m\u001b[38;5;130;43;01m\\'\u001b[39;49;00m\u001b[38;5;124;43m^>\u001b[39;49m\u001b[38;5;130;43;01m\\'\u001b[39;49;00m\u001b[38;5;124;43m \u001b[39;49m\u001b[38;5;124;43m\"\u001b[39;49m\u001b[38;5;124;43m$REF\u001b[39;49m\u001b[38;5;124;43m\"\u001b[39;49m\u001b[38;5;124;43m || true\u001b[39;49m\u001b[38;5;130;43;01m\\n\u001b[39;49;00m\u001b[38;5;124;43m'\u001b[39;49m\u001b[43m)\u001b[49m\n",
      "File \u001b[0;32m~/miniconda3/envs/gatk/lib/python3.10/site-packages/IPython/core/interactiveshell.py:2543\u001b[0m, in \u001b[0;36mInteractiveShell.run_cell_magic\u001b[0;34m(self, magic_name, line, cell)\u001b[0m\n\u001b[1;32m   2541\u001b[0m \u001b[38;5;28;01mwith\u001b[39;00m \u001b[38;5;28mself\u001b[39m\u001b[38;5;241m.\u001b[39mbuiltin_trap:\n\u001b[1;32m   2542\u001b[0m     args \u001b[38;5;241m=\u001b[39m (magic_arg_s, cell)\n\u001b[0;32m-> 2543\u001b[0m     result \u001b[38;5;241m=\u001b[39m \u001b[43mfn\u001b[49m\u001b[43m(\u001b[49m\u001b[38;5;241;43m*\u001b[39;49m\u001b[43margs\u001b[49m\u001b[43m,\u001b[49m\u001b[43m \u001b[49m\u001b[38;5;241;43m*\u001b[39;49m\u001b[38;5;241;43m*\u001b[39;49m\u001b[43mkwargs\u001b[49m\u001b[43m)\u001b[49m\n\u001b[1;32m   2545\u001b[0m \u001b[38;5;66;03m# The code below prevents the output from being displayed\u001b[39;00m\n\u001b[1;32m   2546\u001b[0m \u001b[38;5;66;03m# when using magics with decorator @output_can_be_silenced\u001b[39;00m\n\u001b[1;32m   2547\u001b[0m \u001b[38;5;66;03m# when the last Python token in the expression is a ';'.\u001b[39;00m\n\u001b[1;32m   2548\u001b[0m \u001b[38;5;28;01mif\u001b[39;00m \u001b[38;5;28mgetattr\u001b[39m(fn, magic\u001b[38;5;241m.\u001b[39mMAGIC_OUTPUT_CAN_BE_SILENCED, \u001b[38;5;28;01mFalse\u001b[39;00m):\n",
      "File \u001b[0;32m~/miniconda3/envs/gatk/lib/python3.10/site-packages/IPython/core/magics/script.py:159\u001b[0m, in \u001b[0;36mScriptMagics._make_script_magic.<locals>.named_script_magic\u001b[0;34m(line, cell)\u001b[0m\n\u001b[1;32m    157\u001b[0m \u001b[38;5;28;01melse\u001b[39;00m:\n\u001b[1;32m    158\u001b[0m     line \u001b[38;5;241m=\u001b[39m script\n\u001b[0;32m--> 159\u001b[0m \u001b[38;5;28;01mreturn\u001b[39;00m \u001b[38;5;28;43mself\u001b[39;49m\u001b[38;5;241;43m.\u001b[39;49m\u001b[43mshebang\u001b[49m\u001b[43m(\u001b[49m\u001b[43mline\u001b[49m\u001b[43m,\u001b[49m\u001b[43m \u001b[49m\u001b[43mcell\u001b[49m\u001b[43m)\u001b[49m\n",
      "File \u001b[0;32m~/miniconda3/envs/gatk/lib/python3.10/site-packages/IPython/core/magics/script.py:336\u001b[0m, in \u001b[0;36mScriptMagics.shebang\u001b[0;34m(self, line, cell)\u001b[0m\n\u001b[1;32m    331\u001b[0m \u001b[38;5;28;01mif\u001b[39;00m args\u001b[38;5;241m.\u001b[39mraise_error \u001b[38;5;129;01mand\u001b[39;00m p\u001b[38;5;241m.\u001b[39mreturncode \u001b[38;5;241m!=\u001b[39m \u001b[38;5;241m0\u001b[39m:\n\u001b[1;32m    332\u001b[0m     \u001b[38;5;66;03m# If we get here and p.returncode is still None, we must have\u001b[39;00m\n\u001b[1;32m    333\u001b[0m     \u001b[38;5;66;03m# killed it but not yet seen its return code. We don't wait for it,\u001b[39;00m\n\u001b[1;32m    334\u001b[0m     \u001b[38;5;66;03m# in case it's stuck in uninterruptible sleep. -9 = SIGKILL\u001b[39;00m\n\u001b[1;32m    335\u001b[0m     rc \u001b[38;5;241m=\u001b[39m p\u001b[38;5;241m.\u001b[39mreturncode \u001b[38;5;129;01mor\u001b[39;00m \u001b[38;5;241m-\u001b[39m\u001b[38;5;241m9\u001b[39m\n\u001b[0;32m--> 336\u001b[0m     \u001b[38;5;28;01mraise\u001b[39;00m CalledProcessError(rc, cell)\n",
      "\u001b[0;31mCalledProcessError\u001b[0m: Command 'b'\\nset -u\\necho \"Check FASTQ existence and first reads:\"\\n#ls -lh \"$R1\" \"$R2\" || true\\n#zcat -n \"$R1\" | sed -n \\'1,4p\\' || true\\n#zcat -n \"$R2\" | sed -n \\'1,4p\\' || true\\n\\necho \"Check BED header (first lines):\"\\nhead -n 5 \"$BED\" || true\\n\\necho \"Check REF: show first header line and index status\"\\nsamtools faidx \"$REF\" >/dev/null 2>&1 || echo \"fai missing (will create later)\"\\ngrep -m1 \\'^>\\' \"$REF\" || true\\n'' returned non-zero exit status 1."
     ]
    }
   ],
   "source": [
    "%%bash\n",
    "\n",
    "set -u\n",
    "echo \"Check FASTQ existence and first reads:\"\n",
    "#ls -lh \"$R1\" \"$R2\" || true\n",
    "#zcat -n \"$R1\" | sed -n '1,4p' || true\n",
    "#zcat -n \"$R2\" | sed -n '1,4p' || true\n",
    "\n",
    "echo \"Check BED header (first lines):\"\n",
    "head -n 5 \"$BED\" || true\n",
    "\n",
    "echo \"Check REF: show first header line and index status\"\n",
    "samtools faidx \"$REF\" >/dev/null 2>&1 || echo \"fai missing (will create later)\"\n",
    "grep -m1 '^>' \"$REF\" || true"
   ]
  },
  {
   "cell_type": "code",
   "execution_count": null,
   "id": "4953409b",
   "metadata": {},
   "outputs": [],
   "source": []
  }
 ],
 "metadata": {
  "kernelspec": {
   "display_name": "Python (GATK)",
   "language": "python",
   "name": "gatk"
  },
  "language_info": {
   "codemirror_mode": {
    "name": "ipython",
    "version": 3
   },
   "file_extension": ".py",
   "mimetype": "text/x-python",
   "name": "python",
   "nbconvert_exporter": "python",
   "pygments_lexer": "ipython3",
   "version": "3.10.13"
  }
 },
 "nbformat": 4,
 "nbformat_minor": 5
}
