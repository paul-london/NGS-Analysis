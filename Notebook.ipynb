{
 "cells": [
  {
   "cell_type": "markdown",
   "id": "95e7b562",
   "metadata": {},
   "source": [
    "Import Libraries"
   ]
  },
  {
   "cell_type": "code",
   "execution_count": null,
   "id": "913bfcde",
   "metadata": {},
   "outputs": [],
   "source": [
    "# General\n",
    "import os                       # for file and path management\n",
    "import sys                      # system-related utilities\n",
    "import platform                 # to check system info\n",
    "\n",
    "# Data Science, plotting\n",
    "import numpy as np              # numerical computing\n",
    "import pandas as pd             # data manipulation and tables\n",
    "import matplotlib.pyplot as plt # plotting and visualization\n",
    "import seaborn as sns           # advanced statistical plotting\n",
    "import datetime                 # date/time utilities\n",
    "\n",
    "# Bioinformatics\n",
    "from Bio import SeqIO           # sequence input/output (from Biopython)\n",
    "from Bio.Seq import Seq         # sequence object and manipulations\n",
    "from Bio.SeqRecord import SeqRecord\n",
    "\n",
    "# Statistics, modeling\n",
    "import scipy                    # scientific computing\n",
    "import statsmodels.api as sm    # statistics and models\n",
    "import subprocess               # run shell commands if needed inside notebook\n"
   ]
  },
  {
   "cell_type": "markdown",
   "id": "8c91170d",
   "metadata": {},
   "source": [
    "Testing Linux VM"
   ]
  },
  {
   "cell_type": "code",
   "execution_count": 4,
   "id": "52b1249a",
   "metadata": {},
   "outputs": [
    {
     "name": "stdout",
     "output_type": "stream",
     "text": [
      "Linux-3.10.0-1160.el7.x86_64-x86_64-with-glibc2.17\n",
      "Python version: 3.10.13 (main, Sep 11 2023, 13:21:10) [GCC 11.2.0]\n",
      "Current working directory: /media/sf_NGS-Analysis\n",
      "List files here: ['.git', '.gitignore', '.snakemake', 'data', 'logs', 'Notebook.ipynb', 'README.md', 'references', 'scripts', 'Snakefile', 'tmp']\n",
      "total 13\n",
      "drwxrwx---. 1 root vboxsf 4096 Aug  7 22:11 data\n",
      "drwxrwx---. 1 root vboxsf    0 Aug  7 20:54 logs\n",
      "-rwxrwx---. 1 root vboxsf    0 Aug  8 09:00 Notebook.ipynb\n",
      "-rwxrwx---. 1 root vboxsf   14 Aug  7 13:42 README.md\n",
      "drwxrwx---. 1 root vboxsf 4096 Aug  7 22:11 references\n",
      "drwxrwx---. 1 root vboxsf    0 Aug  7 20:54 scripts\n",
      "-rwxrwx---. 1 root vboxsf 2785 Aug  7 21:43 Snakefile\n",
      "drwxrwx---. 1 root vboxsf    0 Aug  7 20:54 tmp\n"
     ]
    }
   ],
   "source": [
    "print(platform.platform())\n",
    "\n",
    "print(\"Python version:\", sys.version)\n",
    "print(\"Current working directory:\", os.getcwd())\n",
    "print(\"List files here:\", os.listdir('.'))\n",
    "\n",
    "!ls -l"
   ]
  }
 ],
 "metadata": {
  "kernelspec": {
   "display_name": "Python (GATK)",
   "language": "python",
   "name": "gatk"
  }
 },
 "nbformat": 4,
 "nbformat_minor": 5
}
